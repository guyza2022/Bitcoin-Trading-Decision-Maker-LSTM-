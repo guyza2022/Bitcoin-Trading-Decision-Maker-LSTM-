{
 "cells": [
  {
   "cell_type": "code",
   "execution_count": null,
   "id": "c48deccc",
   "metadata": {},
   "outputs": [],
   "source": [
    "import keyring\n",
    "from credentials import get_cred\n",
    "import pandas as pd"
   ]
  },
  {
   "cell_type": "code",
   "execution_count": null,
   "id": "52d8ca89",
   "metadata": {},
   "outputs": [],
   "source": [
    "from tvDatafeed import TvDatafeed,Interval"
   ]
  },
  {
   "cell_type": "code",
   "execution_count": null,
   "id": "3352a545",
   "metadata": {},
   "outputs": [],
   "source": [
    "username,password = get_cred('tradingview')"
   ]
  },
  {
   "cell_type": "code",
   "execution_count": 4,
   "id": "3ed5ed82",
   "metadata": {},
   "outputs": [
    {
     "name": "stdout",
     "output_type": "stream",
     "text": [
      "\n",
      "\n",
      "\n",
      "You need to login manually\n",
      "\n",
      " Press 'enter' to open the browser \n",
      "enter\n",
      "opening browser. Press enter once lgged in return back and press 'enter'. \n",
      "\n",
      "DO NOT CLOSE THE BROWSER\n",
      "enter\n"
     ]
    }
   ],
   "source": [
    "tv = TvDatafeed(auto_login = False)"
   ]
  },
  {
   "cell_type": "code",
   "execution_count": 8,
   "id": "9402c54a",
   "metadata": {},
   "outputs": [],
   "source": [
    "gold_history = tv.get_hist('BTCUSDT','BINANCE',interval = Interval.in_1_minute,n_bars = 10000)"
   ]
  },
  {
   "cell_type": "code",
   "execution_count": 9,
   "id": "cc1590d5",
   "metadata": {},
   "outputs": [
    {
     "data": {
      "text/html": [
       "<div>\n",
       "<style scoped>\n",
       "    .dataframe tbody tr th:only-of-type {\n",
       "        vertical-align: middle;\n",
       "    }\n",
       "\n",
       "    .dataframe tbody tr th {\n",
       "        vertical-align: top;\n",
       "    }\n",
       "\n",
       "    .dataframe thead th {\n",
       "        text-align: right;\n",
       "    }\n",
       "</style>\n",
       "<table border=\"1\" class=\"dataframe\">\n",
       "  <thead>\n",
       "    <tr style=\"text-align: right;\">\n",
       "      <th></th>\n",
       "      <th>symbol</th>\n",
       "      <th>open</th>\n",
       "      <th>high</th>\n",
       "      <th>low</th>\n",
       "      <th>close</th>\n",
       "      <th>volume</th>\n",
       "    </tr>\n",
       "    <tr>\n",
       "      <th>datetime</th>\n",
       "      <th></th>\n",
       "      <th></th>\n",
       "      <th></th>\n",
       "      <th></th>\n",
       "      <th></th>\n",
       "      <th></th>\n",
       "    </tr>\n",
       "  </thead>\n",
       "  <tbody>\n",
       "    <tr>\n",
       "      <th>2021-08-25 18:30:00</th>\n",
       "      <td>BINANCE:BTCUSDT</td>\n",
       "      <td>47456.82</td>\n",
       "      <td>47494.15</td>\n",
       "      <td>47450.82</td>\n",
       "      <td>47490.22</td>\n",
       "      <td>24.293173</td>\n",
       "    </tr>\n",
       "    <tr>\n",
       "      <th>2021-08-25 18:31:00</th>\n",
       "      <td>BINANCE:BTCUSDT</td>\n",
       "      <td>47490.22</td>\n",
       "      <td>47508.10</td>\n",
       "      <td>47488.68</td>\n",
       "      <td>47508.10</td>\n",
       "      <td>17.310646</td>\n",
       "    </tr>\n",
       "    <tr>\n",
       "      <th>2021-08-25 18:32:00</th>\n",
       "      <td>BINANCE:BTCUSDT</td>\n",
       "      <td>47508.09</td>\n",
       "      <td>47542.00</td>\n",
       "      <td>47508.09</td>\n",
       "      <td>47542.00</td>\n",
       "      <td>18.520017</td>\n",
       "    </tr>\n",
       "    <tr>\n",
       "      <th>2021-08-25 18:33:00</th>\n",
       "      <td>BINANCE:BTCUSDT</td>\n",
       "      <td>47542.00</td>\n",
       "      <td>47542.00</td>\n",
       "      <td>47488.67</td>\n",
       "      <td>47512.61</td>\n",
       "      <td>100.368432</td>\n",
       "    </tr>\n",
       "    <tr>\n",
       "      <th>2021-08-25 18:34:00</th>\n",
       "      <td>BINANCE:BTCUSDT</td>\n",
       "      <td>47512.60</td>\n",
       "      <td>47514.53</td>\n",
       "      <td>47466.08</td>\n",
       "      <td>47481.59</td>\n",
       "      <td>20.793812</td>\n",
       "    </tr>\n",
       "    <tr>\n",
       "      <th>...</th>\n",
       "      <td>...</td>\n",
       "      <td>...</td>\n",
       "      <td>...</td>\n",
       "      <td>...</td>\n",
       "      <td>...</td>\n",
       "      <td>...</td>\n",
       "    </tr>\n",
       "    <tr>\n",
       "      <th>2021-08-29 05:45:00</th>\n",
       "      <td>BINANCE:BTCUSDT</td>\n",
       "      <td>48727.77</td>\n",
       "      <td>48731.82</td>\n",
       "      <td>48722.45</td>\n",
       "      <td>48726.03</td>\n",
       "      <td>6.989780</td>\n",
       "    </tr>\n",
       "    <tr>\n",
       "      <th>2021-08-29 05:46:00</th>\n",
       "      <td>BINANCE:BTCUSDT</td>\n",
       "      <td>48726.04</td>\n",
       "      <td>48767.23</td>\n",
       "      <td>48726.03</td>\n",
       "      <td>48742.61</td>\n",
       "      <td>15.891200</td>\n",
       "    </tr>\n",
       "    <tr>\n",
       "      <th>2021-08-29 05:47:00</th>\n",
       "      <td>BINANCE:BTCUSDT</td>\n",
       "      <td>48742.61</td>\n",
       "      <td>48765.92</td>\n",
       "      <td>48741.55</td>\n",
       "      <td>48758.68</td>\n",
       "      <td>6.146720</td>\n",
       "    </tr>\n",
       "    <tr>\n",
       "      <th>2021-08-29 05:48:00</th>\n",
       "      <td>BINANCE:BTCUSDT</td>\n",
       "      <td>48758.69</td>\n",
       "      <td>48763.79</td>\n",
       "      <td>48756.46</td>\n",
       "      <td>48756.47</td>\n",
       "      <td>4.781950</td>\n",
       "    </tr>\n",
       "    <tr>\n",
       "      <th>2021-08-29 05:49:00</th>\n",
       "      <td>BINANCE:BTCUSDT</td>\n",
       "      <td>48756.46</td>\n",
       "      <td>48783.14</td>\n",
       "      <td>48756.46</td>\n",
       "      <td>48773.86</td>\n",
       "      <td>8.943890</td>\n",
       "    </tr>\n",
       "  </tbody>\n",
       "</table>\n",
       "<p>5000 rows × 6 columns</p>\n",
       "</div>"
      ],
      "text/plain": [
       "                              symbol      open      high       low     close  \\\n",
       "datetime                                                                       \n",
       "2021-08-25 18:30:00  BINANCE:BTCUSDT  47456.82  47494.15  47450.82  47490.22   \n",
       "2021-08-25 18:31:00  BINANCE:BTCUSDT  47490.22  47508.10  47488.68  47508.10   \n",
       "2021-08-25 18:32:00  BINANCE:BTCUSDT  47508.09  47542.00  47508.09  47542.00   \n",
       "2021-08-25 18:33:00  BINANCE:BTCUSDT  47542.00  47542.00  47488.67  47512.61   \n",
       "2021-08-25 18:34:00  BINANCE:BTCUSDT  47512.60  47514.53  47466.08  47481.59   \n",
       "...                              ...       ...       ...       ...       ...   \n",
       "2021-08-29 05:45:00  BINANCE:BTCUSDT  48727.77  48731.82  48722.45  48726.03   \n",
       "2021-08-29 05:46:00  BINANCE:BTCUSDT  48726.04  48767.23  48726.03  48742.61   \n",
       "2021-08-29 05:47:00  BINANCE:BTCUSDT  48742.61  48765.92  48741.55  48758.68   \n",
       "2021-08-29 05:48:00  BINANCE:BTCUSDT  48758.69  48763.79  48756.46  48756.47   \n",
       "2021-08-29 05:49:00  BINANCE:BTCUSDT  48756.46  48783.14  48756.46  48773.86   \n",
       "\n",
       "                         volume  \n",
       "datetime                         \n",
       "2021-08-25 18:30:00   24.293173  \n",
       "2021-08-25 18:31:00   17.310646  \n",
       "2021-08-25 18:32:00   18.520017  \n",
       "2021-08-25 18:33:00  100.368432  \n",
       "2021-08-25 18:34:00   20.793812  \n",
       "...                         ...  \n",
       "2021-08-29 05:45:00    6.989780  \n",
       "2021-08-29 05:46:00   15.891200  \n",
       "2021-08-29 05:47:00    6.146720  \n",
       "2021-08-29 05:48:00    4.781950  \n",
       "2021-08-29 05:49:00    8.943890  \n",
       "\n",
       "[5000 rows x 6 columns]"
      ]
     },
     "execution_count": 9,
     "metadata": {},
     "output_type": "execute_result"
    }
   ],
   "source": [
    "gold_history"
   ]
  },
  {
   "cell_type": "code",
   "execution_count": 7,
   "id": "501083fc",
   "metadata": {},
   "outputs": [],
   "source": [
    "btc = pd.read_csv('BTC_2015_2021_15m.csv')"
   ]
  },
  {
   "cell_type": "code",
   "execution_count": null,
   "id": "a535296b",
   "metadata": {},
   "outputs": [],
   "source": [
    "btc"
   ]
  },
  {
   "cell_type": "code",
   "execution_count": null,
   "id": "b6aaf0d2",
   "metadata": {},
   "outputs": [],
   "source": []
  }
 ],
 "metadata": {
  "kernelspec": {
   "display_name": "Python 3.7 (tensorflow)",
   "language": "python",
   "name": "tensorflow"
  },
  "language_info": {
   "codemirror_mode": {
    "name": "ipython",
    "version": 3
   },
   "file_extension": ".py",
   "mimetype": "text/x-python",
   "name": "python",
   "nbconvert_exporter": "python",
   "pygments_lexer": "ipython3",
   "version": "3.8.10"
  }
 },
 "nbformat": 4,
 "nbformat_minor": 5
}
