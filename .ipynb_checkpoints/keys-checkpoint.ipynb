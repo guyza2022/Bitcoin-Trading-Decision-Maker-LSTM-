{
 "cells": [
  {
   "cell_type": "code",
   "execution_count": null,
   "id": "965ee304",
   "metadata": {},
   "outputs": [],
   "source": [
    "api_key = 'm7pf7O4GkFKfOiI35PozphduaXiLFKqBcy858raD6DZtMQG7RJ2vHSho1Enwt5Wi'\n",
    "api_secret = 'b2s5VfMckqnhsRJ10flUtv9FTEiDZqo7kSdIlhERLcqPLw00EHoqk0LLQZovSSxt'\n"
   ]
  }
 ],
 "metadata": {
  "kernelspec": {
   "display_name": "Python 3.7 (tensorflow)",
   "language": "python",
   "name": "tensorflow"
  },
  "language_info": {
   "codemirror_mode": {
    "name": "ipython",
    "version": 3
   },
   "file_extension": ".py",
   "mimetype": "text/x-python",
   "name": "python",
   "nbconvert_exporter": "python",
   "pygments_lexer": "ipython3",
   "version": "3.8.10"
  }
 },
 "nbformat": 4,
 "nbformat_minor": 5
}
