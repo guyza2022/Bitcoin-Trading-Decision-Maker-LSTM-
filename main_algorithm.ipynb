{
 "cells": [
  {
   "cell_type": "code",
   "execution_count": 39,
   "id": "f9012b6c",
   "metadata": {},
   "outputs": [],
   "source": [
    "from binance.client import Client\n",
    "import pandas as pd\n",
    "import sqlalchemy\n",
    "from binance import BinanceSocketManager"
   ]
  },
  {
   "cell_type": "code",
   "execution_count": 40,
   "id": "2246a494",
   "metadata": {},
   "outputs": [],
   "source": [
    "%run ./keys.ipynb"
   ]
  },
  {
   "cell_type": "code",
   "execution_count": 41,
   "id": "1081f433",
   "metadata": {},
   "outputs": [],
   "source": [
    "client = Client(api_key,api_secret)"
   ]
  },
  {
   "cell_type": "code",
   "execution_count": 42,
   "id": "5b44bc60",
   "metadata": {},
   "outputs": [],
   "source": [
    "#client.get_account()   #check if it is connected properly"
   ]
  },
  {
   "cell_type": "code",
   "execution_count": 43,
   "id": "59f6c909",
   "metadata": {},
   "outputs": [],
   "source": [
    "#pair = Piar of currency ex. BTCUSDT\n",
    "#interval = Timeframe ex 1m 15m\n",
    "#lookback = How long the data you want from now\n",
    "def getHistoricalData_minute(pair,interval,lookback): \n",
    "    frame = pd.DataFrame(client.get_historical_klines(pair,interval,lookback + ' min ago UTC'))\n",
    "    frame = frame.iloc[:,:6]\n",
    "    frame.columns = ['Time','Open','High','Low','Close','Volume']\n",
    "    frame = frame.set_index('Time')\n",
    "    frame.index = pd.to_datetime(frame.index, unit = 'ms')\n",
    "    frame = frame.astype(float)\n",
    "    return frame"
   ]
  },
  {
   "cell_type": "code",
   "execution_count": 44,
   "id": "9866ca4c",
   "metadata": {},
   "outputs": [],
   "source": [
    "test = getHistoricalData_minute('ADAUSDT','1m','30')"
   ]
  },
  {
   "cell_type": "code",
   "execution_count": 45,
   "id": "4bbc8aae",
   "metadata": {},
   "outputs": [
    {
     "data": {
      "text/plain": [
       "<AxesSubplot:xlabel='Time'>"
      ]
     },
     "execution_count": 45,
     "metadata": {},
     "output_type": "execute_result"
    },
    {
     "data": {
      "image/png": "[encoded data removed]",
      "text/plain": [
       "<Figure size 432x288 with 1 Axes>"
      ]
     },
     "metadata": {
      "needs_background": "light"
     },
     "output_type": "display_data"
    }
   ],
   "source": [
    "test.Open.plot()"
   ]
  },
  {
   "cell_type": "code",
   "execution_count": 53,
   "id": "77e401ab",
   "metadata": {},
   "outputs": [],
   "source": [
    "def createFrame(msg):\n",
    "    frame = pd.DataFrame([msg])\n",
    "    frame = frame.loc[:,['s','E','p']]\n",
    "    frame.columns = ['Symbol','Time','Price']\n",
    "    frame.Price = frame.Price.astype(float)\n",
    "    frame.Time = pd.to_datetime(frame.Time, unit='ms')\n",
    "    return frame"
   ]
  },
  {
   "cell_type": "code",
   "execution_count": 54,
   "id": "d0ec008c",
   "metadata": {},
   "outputs": [],
   "source": [
    "engine = sqlalchemy.create_engine('sqlite:///BTCUSDTdteam.db')"
   ]
  },
  {
   "cell_type": "code",
   "execution_count": 55,
   "id": "433d1f2d",
   "metadata": {},
   "outputs": [],
   "source": [
    "bsm = BinanceSocketManager(client)\n",
    "socket = bsm.trade_socket('BTCUSDT')"
   ]
  },
  {
   "cell_type": "code",
   "execution_count": 57,
   "id": "d63b6c0a",
   "metadata": {},
   "outputs": [
    {
     "name": "stdout",
     "output_type": "stream",
     "text": [
      "{'e': 'trade', 'E': 1629113755868, 's': 'BTCUSDT', 't': 1007895764, 'p': '47481.72000000', 'q': '0.00045100', 'b': 7192745863, 'a': 7192745987, 'T': 1629113755868, 'm': True, 'M': True}\n",
      "{'e': 'trade', 'E': 1629113755934, 's': 'BTCUSDT', 't': 1007895765, 'p': '47481.72000000', 'q': '0.00105600', 'b': 7192745863, 'a': 7192745990, 'T': 1629113755933, 'm': True, 'M': True}\n",
      "{'e': 'trade', 'E': 1629113756133, 's': 'BTCUSDT', 't': 1007895766, 'p': '47481.73000000', 'q': '0.00421600', 'b': 7192745997, 'a': 7192745858, 'T': 1629113756133, 'm': False, 'M': True}\n",
      "{'e': 'trade', 'E': 1629113756174, 's': 'BTCUSDT', 't': 1007895767, 'p': '47481.73000000', 'q': '0.00835800', 'b': 7192745999, 'a': 7192745858, 'T': 1629113756174, 'm': False, 'M': True}\n",
      "{'e': 'trade', 'E': 1629113756389, 's': 'BTCUSDT', 't': 1007895768, 'p': '47481.72000000', 'q': '0.01054000', 'b': 7192745863, 'a': 7192746008, 'T': 1629113756389, 'm': True, 'M': True}\n",
      "{'e': 'trade', 'E': 1629113756481, 's': 'BTCUSDT', 't': 1007895769, 'p': '47481.73000000', 'q': '0.00835800', 'b': 7192746012, 'a': 7192745858, 'T': 1629113756481, 'm': False, 'M': True}\n",
      "{'e': 'trade', 'E': 1629113756519, 's': 'BTCUSDT', 't': 1007895770, 'p': '47481.73000000', 'q': '0.00836100', 'b': 7192746014, 'a': 7192745858, 'T': 1629113756518, 'm': False, 'M': True}\n",
      "{'e': 'trade', 'E': 1629113756575, 's': 'BTCUSDT', 't': 1007895771, 'p': '47481.73000000', 'q': '0.00835800', 'b': 7192746016, 'a': 7192745858, 'T': 1629113756575, 'm': False, 'M': True}\n",
      "{'e': 'trade', 'E': 1629113756766, 's': 'BTCUSDT', 't': 1007895772, 'p': '47481.72000000', 'q': '0.00947700', 'b': 7192745894, 'a': 7192746035, 'T': 1629113756766, 'm': True, 'M': True}\n",
      "{'e': 'trade', 'E': 1629113756772, 's': 'BTCUSDT', 't': 1007895773, 'p': '47481.72000000', 'q': '0.09052300', 'b': 7192745894, 'a': 7192746040, 'T': 1629113756771, 'm': True, 'M': True}\n",
      "{'e': 'trade', 'E': 1629113756772, 's': 'BTCUSDT', 't': 1007895774, 'p': '47481.68000000', 'q': '0.00079900', 'b': 7192746009, 'a': 7192746040, 'T': 1629113756771, 'm': True, 'M': True}\n",
      "{'e': 'trade', 'E': 1629113756838, 's': 'BTCUSDT', 't': 1007895775, 'p': '47478.98000000', 'q': '0.01052900', 'b': 7192745174, 'a': 7192746079, 'T': 1629113756837, 'm': True, 'M': True}\n",
      "{'e': 'trade', 'E': 1629113756859, 's': 'BTCUSDT', 't': 1007895776, 'p': '47476.32000000', 'q': '0.05367300', 'b': 7192745444, 'a': 7192746097, 'T': 1629113756858, 'm': True, 'M': True}\n",
      "{'e': 'trade', 'E': 1629113756859, 's': 'BTCUSDT', 't': 1007895777, 'p': '47475.65000000', 'q': '0.00210600', 'b': 7192745204, 'a': 7192746097, 'T': 1629113756858, 'm': True, 'M': True}\n",
      "{'e': 'trade', 'E': 1629113756859, 's': 'BTCUSDT', 't': 1007895778, 'p': '47475.65000000', 'q': '0.00037300', 'b': 7192745812, 'a': 7192746097, 'T': 1629113756858, 'm': True, 'M': True}\n",
      "{'e': 'trade', 'E': 1629113756859, 's': 'BTCUSDT', 't': 1007895779, 'p': '47475.64000000', 'q': '0.00031600', 'b': 7192745653, 'a': 7192746097, 'T': 1629113756858, 'm': True, 'M': True}\n",
      "{'e': 'trade', 'E': 1629113756859, 's': 'BTCUSDT', 't': 1007895780, 'p': '47475.09000000', 'q': '0.04210500', 'b': 7192744511, 'a': 7192746097, 'T': 1629113756858, 'm': True, 'M': True}\n",
      "{'e': 'trade', 'E': 1629113756859, 's': 'BTCUSDT', 't': 1007895781, 'p': '47475.00000000', 'q': '0.02106300', 'b': 7192745923, 'a': 7192746097, 'T': 1629113756858, 'm': True, 'M': True}\n",
      "{'e': 'trade', 'E': 1629113756907, 's': 'BTCUSDT', 't': 1007895782, 'p': '47471.37000000', 'q': '0.00836100', 'b': 7192746137, 'a': 7192746128, 'T': 1629113756907, 'm': False, 'M': True}\n",
      "{'e': 'trade', 'E': 1629113756952, 's': 'BTCUSDT', 't': 1007895783, 'p': '47471.37000000', 'q': '0.20990400', 'b': 7192746147, 'a': 7192746128, 'T': 1629113756952, 'm': False, 'M': True}\n",
      "{'e': 'trade', 'E': 1629113756979, 's': 'BTCUSDT', 't': 1007895784, 'p': '47471.37000000', 'q': '0.00122500', 'b': 7192746160, 'a': 7192746151, 'T': 1629113756978, 'm': False, 'M': True}\n",
      "{'e': 'trade', 'E': 1629113757001, 's': 'BTCUSDT', 't': 1007895785, 'p': '47471.37000000', 'q': '0.03180000', 'b': 7192746163, 'a': 7192746152, 'T': 1629113757001, 'm': False, 'M': True}\n",
      "{'e': 'trade', 'E': 1629113757027, 's': 'BTCUSDT', 't': 1007895786, 'p': '47471.37000000', 'q': '0.00836100', 'b': 7192746167, 'a': 7192746152, 'T': 1629113757026, 'm': False, 'M': True}\n",
      "{'e': 'trade', 'E': 1629113757047, 's': 'BTCUSDT', 't': 1007895787, 'p': '47471.37000000', 'q': '0.02706300', 'b': 7192746170, 'a': 7192746152, 'T': 1629113757046, 'm': False, 'M': True}\n",
      "{'e': 'trade', 'E': 1629113757347, 's': 'BTCUSDT', 't': 1007895788, 'p': '47471.37000000', 'q': '0.02500000', 'b': 7192746190, 'a': 7192746154, 'T': 1629113757347, 'm': False, 'M': True}\n",
      "{'e': 'trade', 'E': 1629113757347, 's': 'BTCUSDT', 't': 1007895789, 'p': '47471.37000000', 'q': '0.03011600', 'b': 7192746190, 'a': 7192746161, 'T': 1629113757347, 'm': False, 'M': True}\n"
     ]
    },
    {
     "ename": "AttributeError",
     "evalue": "'Connect' object has no attribute 'protocol'",
     "output_type": "error",
     "traceback": [
      "\u001b[1;31m---------------------------------------------------------------------------\u001b[0m",
      "\u001b[1;31mCancelledError\u001b[0m                            Traceback (most recent call last)",
      "\u001b[1;32m~\\miniconda3\\envs\\tensorflow\\lib\\site-packages\\binance\\streams.py\u001b[0m in \u001b[0;36mconnect\u001b[1;34m(self)\u001b[0m\n\u001b[0;32m     79\u001b[0m         \u001b[1;32mtry\u001b[0m\u001b[1;33m:\u001b[0m\u001b[1;33m\u001b[0m\u001b[1;33m\u001b[0m\u001b[0m\n\u001b[1;32m---> 80\u001b[1;33m             \u001b[0mself\u001b[0m\u001b[1;33m.\u001b[0m\u001b[0mws\u001b[0m \u001b[1;33m=\u001b[0m \u001b[1;32mawait\u001b[0m \u001b[0mself\u001b[0m\u001b[1;33m.\u001b[0m\u001b[0m_conn\u001b[0m\u001b[1;33m.\u001b[0m\u001b[0m__aenter__\u001b[0m\u001b[1;33m(\u001b[0m\u001b[1;33m)\u001b[0m\u001b[1;33m\u001b[0m\u001b[1;33m\u001b[0m\u001b[0m\n\u001b[0m\u001b[0;32m     81\u001b[0m         \u001b[1;32mexcept\u001b[0m\u001b[1;33m:\u001b[0m  \u001b[1;31m# noqa\u001b[0m\u001b[1;33m\u001b[0m\u001b[1;33m\u001b[0m\u001b[0m\n",
      "\u001b[1;32m~\\miniconda3\\envs\\tensorflow\\lib\\site-packages\\websockets\\legacy\\client.py\u001b[0m in \u001b[0;36m__aenter__\u001b[1;34m(self)\u001b[0m\n\u001b[0;32m    603\u001b[0m     \u001b[1;32masync\u001b[0m \u001b[1;32mdef\u001b[0m \u001b[0m__aenter__\u001b[0m\u001b[1;33m(\u001b[0m\u001b[0mself\u001b[0m\u001b[1;33m)\u001b[0m \u001b[1;33m->\u001b[0m \u001b[0mWebSocketClientProtocol\u001b[0m\u001b[1;33m:\u001b[0m\u001b[1;33m\u001b[0m\u001b[1;33m\u001b[0m\u001b[0m\n\u001b[1;32m--> 604\u001b[1;33m         \u001b[1;32mreturn\u001b[0m \u001b[1;32mawait\u001b[0m \u001b[0mself\u001b[0m\u001b[1;33m\u001b[0m\u001b[1;33m\u001b[0m\u001b[0m\n\u001b[0m\u001b[0;32m    605\u001b[0m \u001b[1;33m\u001b[0m\u001b[0m\n",
      "\u001b[1;32m~\\miniconda3\\envs\\tensorflow\\lib\\site-packages\\websockets\\legacy\\client.py\u001b[0m in \u001b[0;36m__await_impl__\u001b[1;34m(self)\u001b[0m\n\u001b[0;32m    628\u001b[0m                 \u001b[1;32mtry\u001b[0m\u001b[1;33m:\u001b[0m\u001b[1;33m\u001b[0m\u001b[1;33m\u001b[0m\u001b[0m\n\u001b[1;32m--> 629\u001b[1;33m                     await protocol.handshake(\n\u001b[0m\u001b[0;32m    630\u001b[0m                         \u001b[0mself\u001b[0m\u001b[1;33m.\u001b[0m\u001b[0m_wsuri\u001b[0m\u001b[1;33m,\u001b[0m\u001b[1;33m\u001b[0m\u001b[1;33m\u001b[0m\u001b[0m\n",
      "\u001b[1;32m~\\miniconda3\\envs\\tensorflow\\lib\\site-packages\\websockets\\legacy\\client.py\u001b[0m in \u001b[0;36mhandshake\u001b[1;34m(self, wsuri, origin, available_extensions, available_subprotocols, extra_headers)\u001b[0m\n\u001b[0;32m    381\u001b[0m \u001b[1;33m\u001b[0m\u001b[0m\n\u001b[1;32m--> 382\u001b[1;33m         \u001b[0mstatus_code\u001b[0m\u001b[1;33m,\u001b[0m \u001b[0mresponse_headers\u001b[0m \u001b[1;33m=\u001b[0m \u001b[1;32mawait\u001b[0m \u001b[0mself\u001b[0m\u001b[1;33m.\u001b[0m\u001b[0mread_http_response\u001b[0m\u001b[1;33m(\u001b[0m\u001b[1;33m)\u001b[0m\u001b[1;33m\u001b[0m\u001b[1;33m\u001b[0m\u001b[0m\n\u001b[0m\u001b[0;32m    383\u001b[0m         \u001b[1;32mif\u001b[0m \u001b[0mstatus_code\u001b[0m \u001b[1;32min\u001b[0m \u001b[1;33m(\u001b[0m\u001b[1;36m301\u001b[0m\u001b[1;33m,\u001b[0m \u001b[1;36m302\u001b[0m\u001b[1;33m,\u001b[0m \u001b[1;36m303\u001b[0m\u001b[1;33m,\u001b[0m \u001b[1;36m307\u001b[0m\u001b[1;33m,\u001b[0m \u001b[1;36m308\u001b[0m\u001b[1;33m)\u001b[0m\u001b[1;33m:\u001b[0m\u001b[1;33m\u001b[0m\u001b[1;33m\u001b[0m\u001b[0m\n",
      "\u001b[1;32m~\\miniconda3\\envs\\tensorflow\\lib\\site-packages\\websockets\\legacy\\client.py\u001b[0m in \u001b[0;36mread_http_response\u001b[1;34m(self)\u001b[0m\n\u001b[0;32m    191\u001b[0m         \u001b[1;32mtry\u001b[0m\u001b[1;33m:\u001b[0m\u001b[1;33m\u001b[0m\u001b[1;33m\u001b[0m\u001b[0m\n\u001b[1;32m--> 192\u001b[1;33m             \u001b[0mstatus_code\u001b[0m\u001b[1;33m,\u001b[0m \u001b[0mreason\u001b[0m\u001b[1;33m,\u001b[0m \u001b[0mheaders\u001b[0m \u001b[1;33m=\u001b[0m \u001b[1;32mawait\u001b[0m \u001b[0mread_response\u001b[0m\u001b[1;33m(\u001b[0m\u001b[0mself\u001b[0m\u001b[1;33m.\u001b[0m\u001b[0mreader\u001b[0m\u001b[1;33m)\u001b[0m\u001b[1;33m\u001b[0m\u001b[1;33m\u001b[0m\u001b[0m\n\u001b[0m\u001b[0;32m    193\u001b[0m         \u001b[1;31m# Remove this branch when dropping support for Python < 3.8\u001b[0m\u001b[1;33m\u001b[0m\u001b[1;33m\u001b[0m\u001b[1;33m\u001b[0m\u001b[0m\n",
      "\u001b[1;32m~\\miniconda3\\envs\\tensorflow\\lib\\site-packages\\websockets\\legacy\\http.py\u001b[0m in \u001b[0;36mread_response\u001b[1;34m(stream)\u001b[0m\n\u001b[0;32m    111\u001b[0m     \u001b[1;32mtry\u001b[0m\u001b[1;33m:\u001b[0m\u001b[1;33m\u001b[0m\u001b[1;33m\u001b[0m\u001b[0m\n\u001b[1;32m--> 112\u001b[1;33m         \u001b[0mstatus_line\u001b[0m \u001b[1;33m=\u001b[0m \u001b[1;32mawait\u001b[0m \u001b[0mread_line\u001b[0m\u001b[1;33m(\u001b[0m\u001b[0mstream\u001b[0m\u001b[1;33m)\u001b[0m\u001b[1;33m\u001b[0m\u001b[1;33m\u001b[0m\u001b[0m\n\u001b[0m\u001b[0;32m    113\u001b[0m     \u001b[1;32mexcept\u001b[0m \u001b[0mEOFError\u001b[0m \u001b[1;32mas\u001b[0m \u001b[0mexc\u001b[0m\u001b[1;33m:\u001b[0m\u001b[1;33m\u001b[0m\u001b[1;33m\u001b[0m\u001b[0m\n",
      "\u001b[1;32m~\\miniconda3\\envs\\tensorflow\\lib\\site-packages\\websockets\\legacy\\http.py\u001b[0m in \u001b[0;36mread_line\u001b[1;34m(stream)\u001b[0m\n\u001b[0;32m    185\u001b[0m     \u001b[1;31m# Security: this is bounded by the StreamReader's limit (default = 32 KiB).\u001b[0m\u001b[1;33m\u001b[0m\u001b[1;33m\u001b[0m\u001b[1;33m\u001b[0m\u001b[0m\n\u001b[1;32m--> 186\u001b[1;33m     \u001b[0mline\u001b[0m \u001b[1;33m=\u001b[0m \u001b[1;32mawait\u001b[0m \u001b[0mstream\u001b[0m\u001b[1;33m.\u001b[0m\u001b[0mreadline\u001b[0m\u001b[1;33m(\u001b[0m\u001b[1;33m)\u001b[0m\u001b[1;33m\u001b[0m\u001b[1;33m\u001b[0m\u001b[0m\n\u001b[0m\u001b[0;32m    187\u001b[0m     \u001b[1;31m# Security: this guarantees header values are small (hard-coded = 4 KiB)\u001b[0m\u001b[1;33m\u001b[0m\u001b[1;33m\u001b[0m\u001b[1;33m\u001b[0m\u001b[0m\n",
      "\u001b[1;32m~\\miniconda3\\envs\\tensorflow\\lib\\asyncio\\streams.py\u001b[0m in \u001b[0;36mreadline\u001b[1;34m(self)\u001b[0m\n\u001b[0;32m    539\u001b[0m         \u001b[1;32mtry\u001b[0m\u001b[1;33m:\u001b[0m\u001b[1;33m\u001b[0m\u001b[1;33m\u001b[0m\u001b[0m\n\u001b[1;32m--> 540\u001b[1;33m             \u001b[0mline\u001b[0m \u001b[1;33m=\u001b[0m \u001b[1;32mawait\u001b[0m \u001b[0mself\u001b[0m\u001b[1;33m.\u001b[0m\u001b[0mreaduntil\u001b[0m\u001b[1;33m(\u001b[0m\u001b[0msep\u001b[0m\u001b[1;33m)\u001b[0m\u001b[1;33m\u001b[0m\u001b[1;33m\u001b[0m\u001b[0m\n\u001b[0m\u001b[0;32m    541\u001b[0m         \u001b[1;32mexcept\u001b[0m \u001b[0mexceptions\u001b[0m\u001b[1;33m.\u001b[0m\u001b[0mIncompleteReadError\u001b[0m \u001b[1;32mas\u001b[0m \u001b[0me\u001b[0m\u001b[1;33m:\u001b[0m\u001b[1;33m\u001b[0m\u001b[1;33m\u001b[0m\u001b[0m\n",
      "\u001b[1;32m~\\miniconda3\\envs\\tensorflow\\lib\\asyncio\\streams.py\u001b[0m in \u001b[0;36mreaduntil\u001b[1;34m(self, separator)\u001b[0m\n\u001b[0;32m    631\u001b[0m             \u001b[1;31m# _wait_for_data() will resume reading if stream was paused.\u001b[0m\u001b[1;33m\u001b[0m\u001b[1;33m\u001b[0m\u001b[1;33m\u001b[0m\u001b[0m\n\u001b[1;32m--> 632\u001b[1;33m             \u001b[1;32mawait\u001b[0m \u001b[0mself\u001b[0m\u001b[1;33m.\u001b[0m\u001b[0m_wait_for_data\u001b[0m\u001b[1;33m(\u001b[0m\u001b[1;34m'readuntil'\u001b[0m\u001b[1;33m)\u001b[0m\u001b[1;33m\u001b[0m\u001b[1;33m\u001b[0m\u001b[0m\n\u001b[0m\u001b[0;32m    633\u001b[0m \u001b[1;33m\u001b[0m\u001b[0m\n",
      "\u001b[1;32m~\\miniconda3\\envs\\tensorflow\\lib\\asyncio\\streams.py\u001b[0m in \u001b[0;36m_wait_for_data\u001b[1;34m(self, func_name)\u001b[0m\n\u001b[0;32m    516\u001b[0m         \u001b[1;32mtry\u001b[0m\u001b[1;33m:\u001b[0m\u001b[1;33m\u001b[0m\u001b[1;33m\u001b[0m\u001b[0m\n\u001b[1;32m--> 517\u001b[1;33m             \u001b[1;32mawait\u001b[0m \u001b[0mself\u001b[0m\u001b[1;33m.\u001b[0m\u001b[0m_waiter\u001b[0m\u001b[1;33m\u001b[0m\u001b[1;33m\u001b[0m\u001b[0m\n\u001b[0m\u001b[0;32m    518\u001b[0m         \u001b[1;32mfinally\u001b[0m\u001b[1;33m:\u001b[0m\u001b[1;33m\u001b[0m\u001b[1;33m\u001b[0m\u001b[0m\n",
      "\u001b[1;31mCancelledError\u001b[0m: ",
      "\nDuring handling of the above exception, another exception occurred:\n",
      "\u001b[1;31mAttributeError\u001b[0m                            Traceback (most recent call last)",
      "\u001b[1;32m<ipython-input-57-117c2a77e0d4>\u001b[0m in \u001b[0;36m<module>\u001b[1;34m\u001b[0m\n\u001b[0;32m      1\u001b[0m \u001b[1;32mwhile\u001b[0m \u001b[1;32mTrue\u001b[0m\u001b[1;33m:\u001b[0m\u001b[1;33m\u001b[0m\u001b[1;33m\u001b[0m\u001b[0m\n\u001b[1;32m----> 2\u001b[1;33m     \u001b[1;32mawait\u001b[0m \u001b[0msocket\u001b[0m\u001b[1;33m.\u001b[0m\u001b[0m__aenter__\u001b[0m\u001b[1;33m(\u001b[0m\u001b[1;33m)\u001b[0m\u001b[1;33m\u001b[0m\u001b[1;33m\u001b[0m\u001b[0m\n\u001b[0m\u001b[0;32m      3\u001b[0m     \u001b[0mmsg\u001b[0m \u001b[1;33m=\u001b[0m \u001b[1;32mawait\u001b[0m \u001b[0msocket\u001b[0m\u001b[1;33m.\u001b[0m\u001b[0mrecv\u001b[0m\u001b[1;33m(\u001b[0m\u001b[1;33m)\u001b[0m\u001b[1;33m\u001b[0m\u001b[1;33m\u001b[0m\u001b[0m\n\u001b[0;32m      4\u001b[0m     \u001b[0mframe\u001b[0m \u001b[1;33m=\u001b[0m \u001b[0mcreateFrame\u001b[0m\u001b[1;33m(\u001b[0m\u001b[0mmsg\u001b[0m\u001b[1;33m)\u001b[0m\u001b[1;33m\u001b[0m\u001b[1;33m\u001b[0m\u001b[0m\n\u001b[0;32m      5\u001b[0m     \u001b[0mframe\u001b[0m\u001b[1;33m.\u001b[0m\u001b[0mto_sql\u001b[0m\u001b[1;33m(\u001b[0m\u001b[1;34m'BTCUSDT'\u001b[0m\u001b[1;33m,\u001b[0m \u001b[0mengine\u001b[0m\u001b[1;33m,\u001b[0m \u001b[0mif_exists\u001b[0m \u001b[1;33m=\u001b[0m \u001b[1;34m'append'\u001b[0m\u001b[1;33m,\u001b[0m \u001b[0mindex\u001b[0m \u001b[1;33m=\u001b[0m \u001b[1;32mFalse\u001b[0m\u001b[1;33m)\u001b[0m\u001b[1;33m\u001b[0m\u001b[1;33m\u001b[0m\u001b[0m\n",
      "\u001b[1;32m~\\miniconda3\\envs\\tensorflow\\lib\\site-packages\\binance\\streams.py\u001b[0m in \u001b[0;36m__aenter__\u001b[1;34m(self)\u001b[0m\n\u001b[0;32m     59\u001b[0m \u001b[1;33m\u001b[0m\u001b[0m\n\u001b[0;32m     60\u001b[0m     \u001b[1;32masync\u001b[0m \u001b[1;32mdef\u001b[0m \u001b[0m__aenter__\u001b[0m\u001b[1;33m(\u001b[0m\u001b[0mself\u001b[0m\u001b[1;33m)\u001b[0m\u001b[1;33m:\u001b[0m\u001b[1;33m\u001b[0m\u001b[1;33m\u001b[0m\u001b[0m\n\u001b[1;32m---> 61\u001b[1;33m         \u001b[1;32mawait\u001b[0m \u001b[0mself\u001b[0m\u001b[1;33m.\u001b[0m\u001b[0mconnect\u001b[0m\u001b[1;33m(\u001b[0m\u001b[1;33m)\u001b[0m\u001b[1;33m\u001b[0m\u001b[1;33m\u001b[0m\u001b[0m\n\u001b[0m\u001b[0;32m     62\u001b[0m         \u001b[1;32mreturn\u001b[0m \u001b[0mself\u001b[0m\u001b[1;33m\u001b[0m\u001b[1;33m\u001b[0m\u001b[0m\n\u001b[0;32m     63\u001b[0m \u001b[1;33m\u001b[0m\u001b[0m\n",
      "\u001b[1;32m~\\miniconda3\\envs\\tensorflow\\lib\\site-packages\\binance\\streams.py\u001b[0m in \u001b[0;36mconnect\u001b[1;34m(self)\u001b[0m\n\u001b[0;32m     80\u001b[0m             \u001b[0mself\u001b[0m\u001b[1;33m.\u001b[0m\u001b[0mws\u001b[0m \u001b[1;33m=\u001b[0m \u001b[1;32mawait\u001b[0m \u001b[0mself\u001b[0m\u001b[1;33m.\u001b[0m\u001b[0m_conn\u001b[0m\u001b[1;33m.\u001b[0m\u001b[0m__aenter__\u001b[0m\u001b[1;33m(\u001b[0m\u001b[1;33m)\u001b[0m\u001b[1;33m\u001b[0m\u001b[1;33m\u001b[0m\u001b[0m\n\u001b[0;32m     81\u001b[0m         \u001b[1;32mexcept\u001b[0m\u001b[1;33m:\u001b[0m  \u001b[1;31m# noqa\u001b[0m\u001b[1;33m\u001b[0m\u001b[1;33m\u001b[0m\u001b[0m\n\u001b[1;32m---> 82\u001b[1;33m             \u001b[1;32mawait\u001b[0m \u001b[0mself\u001b[0m\u001b[1;33m.\u001b[0m\u001b[0m_reconnect\u001b[0m\u001b[1;33m(\u001b[0m\u001b[1;33m)\u001b[0m\u001b[1;33m\u001b[0m\u001b[1;33m\u001b[0m\u001b[0m\n\u001b[0m\u001b[0;32m     83\u001b[0m             \u001b[1;32mreturn\u001b[0m\u001b[1;33m\u001b[0m\u001b[1;33m\u001b[0m\u001b[0m\n\u001b[0;32m     84\u001b[0m         \u001b[0mself\u001b[0m\u001b[1;33m.\u001b[0m\u001b[0mws_state\u001b[0m \u001b[1;33m=\u001b[0m \u001b[0mWSListenerState\u001b[0m\u001b[1;33m.\u001b[0m\u001b[0mSTREAMING\u001b[0m\u001b[1;33m\u001b[0m\u001b[1;33m\u001b[0m\u001b[0m\n",
      "\u001b[1;32m~\\miniconda3\\envs\\tensorflow\\lib\\site-packages\\binance\\streams.py\u001b[0m in \u001b[0;36m_reconnect\u001b[1;34m(self)\u001b[0m\n\u001b[0;32m    182\u001b[0m             \u001b[1;32mreturn\u001b[0m\u001b[1;33m\u001b[0m\u001b[1;33m\u001b[0m\u001b[0m\n\u001b[0;32m    183\u001b[0m         \u001b[0mself\u001b[0m\u001b[1;33m.\u001b[0m\u001b[0mws_state\u001b[0m \u001b[1;33m=\u001b[0m \u001b[0mWSListenerState\u001b[0m\u001b[1;33m.\u001b[0m\u001b[0mRECONNECTING\u001b[0m\u001b[1;33m\u001b[0m\u001b[1;33m\u001b[0m\u001b[0m\n\u001b[1;32m--> 184\u001b[1;33m         \u001b[1;32mawait\u001b[0m \u001b[0mself\u001b[0m\u001b[1;33m.\u001b[0m\u001b[0mbefore_reconnect\u001b[0m\u001b[1;33m(\u001b[0m\u001b[1;33m)\u001b[0m\u001b[1;33m\u001b[0m\u001b[1;33m\u001b[0m\u001b[0m\n\u001b[0m\u001b[0;32m    185\u001b[0m         \u001b[1;32mif\u001b[0m \u001b[0mself\u001b[0m\u001b[1;33m.\u001b[0m\u001b[0m_reconnects\u001b[0m \u001b[1;33m<\u001b[0m \u001b[0mself\u001b[0m\u001b[1;33m.\u001b[0m\u001b[0mMAX_RECONNECTS\u001b[0m\u001b[1;33m:\u001b[0m\u001b[1;33m\u001b[0m\u001b[1;33m\u001b[0m\u001b[0m\n\u001b[0;32m    186\u001b[0m             \u001b[0mreconnect_wait\u001b[0m \u001b[1;33m=\u001b[0m \u001b[0mself\u001b[0m\u001b[1;33m.\u001b[0m\u001b[0m_get_reconnect_wait\u001b[0m\u001b[1;33m(\u001b[0m\u001b[0mself\u001b[0m\u001b[1;33m.\u001b[0m\u001b[0m_reconnects\u001b[0m\u001b[1;33m)\u001b[0m\u001b[1;33m\u001b[0m\u001b[1;33m\u001b[0m\u001b[0m\n",
      "\u001b[1;32m~\\miniconda3\\envs\\tensorflow\\lib\\site-packages\\binance\\streams.py\u001b[0m in \u001b[0;36mbefore_reconnect\u001b[1;34m(self)\u001b[0m\n\u001b[0;32m    170\u001b[0m     \u001b[1;32masync\u001b[0m \u001b[1;32mdef\u001b[0m \u001b[0mbefore_reconnect\u001b[0m\u001b[1;33m(\u001b[0m\u001b[0mself\u001b[0m\u001b[1;33m)\u001b[0m\u001b[1;33m:\u001b[0m\u001b[1;33m\u001b[0m\u001b[1;33m\u001b[0m\u001b[0m\n\u001b[0;32m    171\u001b[0m         \u001b[1;32mif\u001b[0m \u001b[0mself\u001b[0m\u001b[1;33m.\u001b[0m\u001b[0mws\u001b[0m\u001b[1;33m:\u001b[0m\u001b[1;33m\u001b[0m\u001b[1;33m\u001b[0m\u001b[0m\n\u001b[1;32m--> 172\u001b[1;33m             \u001b[1;32mawait\u001b[0m \u001b[0mself\u001b[0m\u001b[1;33m.\u001b[0m\u001b[0m_conn\u001b[0m\u001b[1;33m.\u001b[0m\u001b[0m__aexit__\u001b[0m\u001b[1;33m(\u001b[0m\u001b[1;32mNone\u001b[0m\u001b[1;33m,\u001b[0m \u001b[1;32mNone\u001b[0m\u001b[1;33m,\u001b[0m \u001b[1;32mNone\u001b[0m\u001b[1;33m)\u001b[0m\u001b[1;33m\u001b[0m\u001b[1;33m\u001b[0m\u001b[0m\n\u001b[0m\u001b[0;32m    173\u001b[0m             \u001b[0mself\u001b[0m\u001b[1;33m.\u001b[0m\u001b[0mws\u001b[0m \u001b[1;33m=\u001b[0m \u001b[1;32mNone\u001b[0m\u001b[1;33m\u001b[0m\u001b[1;33m\u001b[0m\u001b[0m\n\u001b[0;32m    174\u001b[0m         \u001b[0mself\u001b[0m\u001b[1;33m.\u001b[0m\u001b[0m_reconnects\u001b[0m \u001b[1;33m+=\u001b[0m \u001b[1;36m1\u001b[0m\u001b[1;33m\u001b[0m\u001b[1;33m\u001b[0m\u001b[0m\n",
      "\u001b[1;32m~\\miniconda3\\envs\\tensorflow\\lib\\site-packages\\websockets\\legacy\\client.py\u001b[0m in \u001b[0;36m__aexit__\u001b[1;34m(self, exc_type, exc_value, traceback)\u001b[0m\n\u001b[0;32m    610\u001b[0m         \u001b[0mtraceback\u001b[0m\u001b[1;33m:\u001b[0m \u001b[0mOptional\u001b[0m\u001b[1;33m[\u001b[0m\u001b[0mTracebackType\u001b[0m\u001b[1;33m]\u001b[0m\u001b[1;33m,\u001b[0m\u001b[1;33m\u001b[0m\u001b[1;33m\u001b[0m\u001b[0m\n\u001b[0;32m    611\u001b[0m     ) -> None:\n\u001b[1;32m--> 612\u001b[1;33m         \u001b[1;32mawait\u001b[0m \u001b[0mself\u001b[0m\u001b[1;33m.\u001b[0m\u001b[0mprotocol\u001b[0m\u001b[1;33m.\u001b[0m\u001b[0mclose\u001b[0m\u001b[1;33m(\u001b[0m\u001b[1;33m)\u001b[0m\u001b[1;33m\u001b[0m\u001b[1;33m\u001b[0m\u001b[0m\n\u001b[0m\u001b[0;32m    613\u001b[0m \u001b[1;33m\u001b[0m\u001b[0m\n\u001b[0;32m    614\u001b[0m     \u001b[1;31m# await connect(...)\u001b[0m\u001b[1;33m\u001b[0m\u001b[1;33m\u001b[0m\u001b[1;33m\u001b[0m\u001b[0m\n",
      "\u001b[1;31mAttributeError\u001b[0m: 'Connect' object has no attribute 'protocol'"
     ]
    }
   ],
   "source": [
    "while True:\n",
    "    await socket.__aenter__()\n",
    "    msg = await socket.recv()\n",
    "    frame = createFrame(msg)\n",
    "    frame.to_sql('BTCUSDT', engine, if_exists = 'append', index = False)\n",
    "    print(msg)"
   ]
  },
  {
   "cell_type": "code",
   "execution_count": null,
   "id": "a4a0603b",
   "metadata": {},
   "outputs": [],
   "source": [
    "createFrame(msg)"
   ]
  },
  {
   "cell_type": "code",
   "execution_count": 35,
   "id": "cd95e4a7",
   "metadata": {},
   "outputs": [],
   "source": []
  },
  {
   "cell_type": "code",
   "execution_count": null,
   "id": "c98de1e8",
   "metadata": {},
   "outputs": [],
   "source": []
  }
 ],
 "metadata": {
  "kernelspec": {
   "display_name": "Python 3.7 (tensorflow)",
   "language": "python",
   "name": "tensorflow"
  },
  "language_info": {
   "codemirror_mode": {
    "name": "ipython",
    "version": 3
   },
   "file_extension": ".py",
   "mimetype": "text/x-python",
   "name": "python",
   "nbconvert_exporter": "python",
   "pygments_lexer": "ipython3",
   "version": "3.8.10"
  }
 },
 "nbformat": 4,
 "nbformat_minor": 5
}
